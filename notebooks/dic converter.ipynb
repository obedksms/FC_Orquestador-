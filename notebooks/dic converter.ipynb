{
 "cells": [
  {
   "cell_type": "markdown",
   "metadata": {},
   "source": [
    "**COnvertir a json o dic**"
   ]
  },
  {
   "cell_type": "code",
   "execution_count": 1,
   "metadata": {},
   "outputs": [],
   "source": [
    "import json\n",
    "\n",
    "json_string_1 = '''{\"agent_execution_id\": \"03042025\", \"event_type\": \"reply\", \"content\": {\"contact_details\": {\"recipient_number\": \"+55 5512345678\", \"whatsapp_token\": \"whatsapp_token\", \"whatsapp_phone_number_id\": \"whatsapp_phone_number_id\", \"whatsapp_business_account_id\": \"whatsapp_business_account_id\"}}, \"message\": \"¡Gracias por tu tiempo! Como agradeciemiento te estamos dando un 10%% de descuento en cualquier compra en línea en nuestro sitio surtidoradepartamental.com. \"}'''\n",
    "\n",
    "json_string_2 = '''{\"agent_execution_id\": \"03042025\", \"event_type\": \"end\", \"content\": {\"is_reference_found\": true, \"is_client_known\": true, \"is_client_suitable\": true, \"relationship\": \"amigo\", \"isOfLegalAge\": true}, \"message\": null}'''\n",
    "\n",
    "json_string_3 = '''{\"agent_execution_id\": \"03042025\", \"event_type\": \"error\", \"content\": null, \"message\": null}'''\n",
    "\n",
    "dict_1 = json.loads(json_string_1)\n",
    "dict_2 = json.loads(json_string_2)\n",
    "dict_3 = json.loads(json_string_3)\n",
    "\n"
   ]
  },
  {
   "cell_type": "code",
   "execution_count": null,
   "metadata": {},
   "outputs": [
    {
     "name": "stdout",
     "output_type": "stream",
     "text": [
      "{'agent_execution_id': '03042025', 'event_type': 'reply', 'content': {'contact_details': {'recipient_number': '+55 5512345678', 'whatsapp_token': 'whatsapp_token', 'whatsapp_phone_number_id': 'whatsapp_phone_number_id', 'whatsapp_business_account_id': 'whatsapp_business_account_id'}}, 'message': '¡Gracias por tu tiempo! Como agradeciemiento te estamos dando un 10%% de descuento en cualquier compra en línea en nuestro sitio surtidoradepartamental.com. '}\n"
     ]
    }
   ],
   "source": []
  }
 ],
 "metadata": {
  "kernelspec": {
   "display_name": ".venv",
   "language": "python",
   "name": "python3"
  },
  "language_info": {
   "codemirror_mode": {
    "name": "ipython",
    "version": 3
   },
   "file_extension": ".py",
   "mimetype": "text/x-python",
   "name": "python",
   "nbconvert_exporter": "python",
   "pygments_lexer": "ipython3",
   "version": "3.13.1"
  }
 },
 "nbformat": 4,
 "nbformat_minor": 2
}
