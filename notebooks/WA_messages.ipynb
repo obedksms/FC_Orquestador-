{
 "cells": [
  {
   "cell_type": "code",
   "execution_count": 2,
   "metadata": {},
   "outputs": [],
   "source": [
    "#KSMS\n",
    "TOKEN = \"EAAOgIzZCoBS4BO5qCwUDc2WZAB5bzDpgQmXvPrY81VngwUXQdkUTkvtnK6zQFNQc9xXGNZAWwPlUsSXNZB1hNjdEZBEApe4d45z6wsc5s6gdMbMr2J5HvyofmrUZBgABDPWWUlJKilHtw02DHXXvkszWSOJQcuIsiUatab5IYS5o4tIC8memyV5cM9WWUOV0X0umsmOf0WFQ7jDxk9xhXEPZA2V6o8sDBINmJRvkCHc\"\n",
    "PHONE_NUMBER_ID =\"534458339752127\"\n",
    "WHATSAPP_BUSINESS_ACCOUNT_ID = \"483631814842687\"\n",
    "TO = \"5219531127188\""
   ]
  },
  {
   "cell_type": "code",
   "execution_count": null,
   "metadata": {},
   "outputs": [],
   "source": [
    "#OBED\n",
    "TOKEN = \"EAAQfmvT1cbkBO7ZB4Ifw2FwBEktCIvL8sKKSbmNmoKDmZAm3pnxQKFaBS1A6bBQLUyOCuR8SKJOY9mwZAFcBZB7qVvw4N7P7LUDap4mHZAYpcmsNnG52oPvVKBDZB18nnZA86ygyTZBe3wq6EPF28YuB0exsKR4aHUIf1i4Qoibl021fy8B8lHpAEE0z2K2pcxFCoHzT1yzYYiZAuadSIHlehXqIrZAiU0\"\n",
    "PHONE_NUMBER_ID =\"580532771815815\"\n",
    "WHATSAPP_BUSINESS_ACCOUNT_ID = \"1362547508119721\"\n",
    "TO = \"+529531127188\""
   ]
  },
  {
   "cell_type": "markdown",
   "metadata": {},
   "source": [
    "# Crear plantilla"
   ]
  },
  {
   "cell_type": "code",
   "execution_count": 10,
   "metadata": {},
   "outputs": [
    {
     "name": "stdout",
     "output_type": "stream",
     "text": [
      "{\"error\":{\"message\":\"Invalid parameter\",\"type\":\"OAuthException\",\"code\":100,\"error_subcode\":2388026,\"is_transient\":false,\"error_user_title\":\"La categor\\u00eda de la plantilla no coincide\",\"error_user_msg\":\"La categor\\u00eda MARKETING no coincide con la que ya est\\u00e1 asociada a esta plantilla: UTILITY.\",\"fbtrace_id\":\"AQjGQ3F-K1IVsN42kKy8f8o\"}}\n"
     ]
    }
   ],
   "source": [
    "import requests\n",
    "import json\n",
    "\n",
    "url = F\"https://graph.facebook.com/v22.0/{WHATSAPP_BUSINESS_ACCOUNT_ID}/message_templates\"\n",
    "\n",
    "payload = json.dumps({\n",
    "  \"name\": \"validaciondereferencia\",\n",
    "  \"category\": \"UTILITY\",\n",
    "  \"parameter_format\": \"NAMED\",\n",
    "  \"allow_category_change\": True,\n",
    "  \"language\": \"es_MX\",\n",
    "  \"components\": [\n",
    "    {\n",
    "      \"type\": \"BODY\",\n",
    "      \"text\": \"Soy {{agent_name}} supervisor en Kosmos. {{client_name}} nos compartió sus datos, para confirmar que es usted su socio ¿Es usted {{reference_name}}?\",\n",
    "      \"example\": {\n",
    "        \"body_text_named_params\": [\n",
    "          {\n",
    "            \"param_name\": \"agent_name\",\n",
    "            \"example\": \"Jose Hernández\"\n",
    "          },\n",
    "          {\n",
    "            \"param_name\": \"client_name\",\n",
    "            \"example\": \"Juan Pérez\"\n",
    "          },\n",
    "          {\n",
    "            \"param_name\": \"reference_name\",\n",
    "            \"example\": \"Pedro Martínez\"\n",
    "          }\n",
    "        ]\n",
    "      }\n",
    "    }\n",
    "  ]\n",
    "})\n",
    "headers = {\n",
    "  'Authorization': f\"Bearer {TOKEN}\",\n",
    "  'Content-Type': 'application/json'\n",
    "}\n",
    "\n",
    "response = requests.request(\"POST\", url, headers=headers, data=payload)\n",
    "\n",
    "print(response.text)\n"
   ]
  },
  {
   "cell_type": "markdown",
   "metadata": {},
   "source": [
    "## Ejemplo de respuesta\n",
    "```json\n",
    "{\n",
    "    \"id\":\"1864597287620891\",\n",
    "    \"status\":\"PENDING\",\n",
    "    \"category\":\"UTILITY\"\n",
    "}\n",
    "```"
   ]
  },
  {
   "cell_type": "markdown",
   "metadata": {},
   "source": [
    "# Enviar Plantilla"
   ]
  },
  {
   "cell_type": "code",
   "execution_count": 13,
   "metadata": {},
   "outputs": [
    {
     "name": "stdout",
     "output_type": "stream",
     "text": [
      "{\"error\":{\"message\":\"(#131030) Recipient phone number not in allowed list\",\"type\":\"OAuthException\",\"code\":131030,\"error_data\":{\"messaging_product\":\"whatsapp\",\"details\":\"El n\\u00famero de tel\\u00e9fono del destinatario no est\\u00e1 en la lista de autorizados: Agrega el n\\u00famero de tel\\u00e9fono del destinatario a la lista de destinatarios y vuelve a intentarlo.\"},\"fbtrace_id\":\"A2mqAgsaKu7k-8BiTL2bVvS\"}}\n"
     ]
    }
   ],
   "source": [
    "import requests\n",
    "import json\n",
    "\n",
    "url = f\"https://graph.facebook.com/v22.0/{PHONE_NUMBER_ID}/messages\"\n",
    "#validacionpersona\n",
    "payload = json.dumps({\n",
    "  \"messaging_product\": \"whatsapp\",\n",
    "  \"recipient_type\": \"individual\",\n",
    "  \"to\": TO,\n",
    "  \"type\": \"template\",\n",
    "  \"template\": {\n",
    "    \"name\": \"validaciondereferencia\",\n",
    "    \"language\": {\n",
    "      \"code\": \"es_MX\"\n",
    "    },\n",
    "    \"components\": [\n",
    "      {\n",
    "        \"type\": \"body\",\n",
    "        \"parameters\": [\n",
    "          {\n",
    "            \"type\": \"text\",\n",
    "            \"parameter_name\": \"agent_name\",\n",
    "            \"text\": \"Jose Hernández\"\n",
    "          },\n",
    "          {\n",
    "            \"type\": \"text\",\n",
    "            \"parameter_name\": \"client_name\",\n",
    "            \"text\": \"Juan Pérez\"\n",
    "          },\n",
    "          {\n",
    "            \"type\": \"text\",\n",
    "            \"parameter_name\": \"reference_name\",\n",
    "            \"text\": \"Pedro Martínez\"\n",
    "          }\n",
    "        ]\n",
    "      }\n",
    "    ]\n",
    "  }\n",
    "})\n",
    "headers = {\n",
    "  'Authorization': F\"Bearer {TOKEN}\",\n",
    "  'Content-Type': 'application/json'\n",
    "}\n",
    "\n",
    "response = requests.request(\"POST\", url, headers=headers, data=payload)\n",
    "\n",
    "print(response.text)\n",
    "\n"
   ]
  },
  {
   "cell_type": "markdown",
   "metadata": {},
   "source": [
    "**Error de permisos para enviar plantilla**\n",
    "```json\n",
    "{\n",
    "    \"error\": {\n",
    "        \"message\": \"(#10) Application does not have permission for this action\",\n",
    "        \"type\": \"OAuthException\",\n",
    "        \"code\": 10,\n",
    "        \"error_data\": {\n",
    "            \"messaging_product\": \"whatsapp\",\n",
    "            \"details\": \"There was a problem with the access token or permissions you are using for the API call.\"\n",
    "        },\n",
    "        \"fbtrace_id\": \"A7qN9CXixMDsQkpkBHRYRFL\"\n",
    "    }\n",
    "}\n",
    "```\n",
    "\n",
    "**Envio exitoso**\n",
    "```JSON\n",
    "{\n",
    "    \"messaging_product\": \"whatsapp\",\n",
    "    \"contacts\": [\n",
    "        {\n",
    "            \"input\": \"529531127188\",\n",
    "            \"wa_id\": \"5219531127188\"\n",
    "        }\n",
    "    ],\n",
    "    \"messages\": [\n",
    "        {\n",
    "            \"id\": \"wamid.HBgNNTIxOTUzMTEyNzE4OBUCABEYEjRGMTNCMjhFQTMyNjVEQzk5NQA=\",\n",
    "            \"message_status\": \"accepted\"\n",
    "        }\n",
    "    ]\n",
    "}\n",
    "```\n"
   ]
  },
  {
   "cell_type": "markdown",
   "metadata": {},
   "source": [
    "## Enviar mensaje de texto\n"
   ]
  },
  {
   "cell_type": "code",
   "execution_count": 13,
   "metadata": {},
   "outputs": [
    {
     "name": "stdout",
     "output_type": "stream",
     "text": [
      "{\"messaging_product\":\"whatsapp\",\"contacts\":[{\"input\":\"529531127188\",\"wa_id\":\"5219531127188\"}],\"messages\":[{\"id\":\"wamid.HBgNNTIxOTUzMTEyNzE4OBUCABEYEkNBMzc3MzNBQTM5N0U1NkQ1OAA=\"}]}\n"
     ]
    }
   ],
   "source": [
    "import requests\n",
    "import json\n",
    "\n",
    "url = F\"https://graph.facebook.com/v22.0/{PHONE_NUMBER_ID}/messages\"\n",
    "\n",
    "payload = json.dumps({\n",
    "  \"messaging_product\": \"whatsapp\",\n",
    "  \"recipient_type\": \"individual\",\n",
    "  \"to\": TO,\n",
    "  \"type\": \"text\",\n",
    "  \"text\": {\n",
    "    \"body\": \"ASDFDFSDFSDFSFDSFSFDSDFSDFSDFSDF\"\n",
    "  }\n",
    "})\n",
    "headers = {\n",
    "  'Authorization': F\"Bearer {TOKEN}\",\n",
    "  'Content-Type': 'application/json'\n",
    "}\n",
    "\n",
    "response = requests.request(\"POST\", url, headers=headers, data=payload)\n",
    "\n",
    "print(response.text)\n"
   ]
  },
  {
   "cell_type": "markdown",
   "metadata": {},
   "source": [
    "**Ejemplo de Respuesta exitosa**\n",
    "\n",
    "```json\n",
    "{\n",
    "    \"messaging_product\": \"whatsapp\",\n",
    "    \"contacts\": [\n",
    "        {\n",
    "            \"input\": \"529531127188\",\n",
    "            \"wa_id\": \"5219531127188\"\n",
    "        }\n",
    "    ],\n",
    "    \"messages\": [\n",
    "        {\n",
    "            \"id\": \"wamid.HBgNNTIxOTUzMTEyNzE4OBUCABEYEkQ0OUU3OTA2N0M1NkU1RURFRAA=\"\n",
    "        }\n",
    "    ]\n",
    "}\n",
    "```"
   ]
  }
 ],
 "metadata": {
  "kernelspec": {
   "display_name": ".venv",
   "language": "python",
   "name": "python3"
  },
  "language_info": {
   "codemirror_mode": {
    "name": "ipython",
    "version": 3
   },
   "file_extension": ".py",
   "mimetype": "text/x-python",
   "name": "python",
   "nbconvert_exporter": "python",
   "pygments_lexer": "ipython3",
   "version": "3.13.1"
  }
 },
 "nbformat": 4,
 "nbformat_minor": 2
}
