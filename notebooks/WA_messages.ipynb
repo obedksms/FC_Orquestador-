{
 "cells": [
  {
   "cell_type": "code",
   "execution_count": 2,
   "metadata": {},
   "outputs": [],
   "source": [
    "#KSMS\n",
    "TOKEN = \"EAAOgIzZCoBS4BO5qCwUDc2WZAB5bzDpgQmXvPrY81VngwUXQdkUTkvtnK6zQFNQc9xXGNZAWwPlUsSXNZB1hNjdEZBEApe4d45z6wsc5s6gdMbMr2J5HvyofmrUZBgABDPWWUlJKilHtw02DHXXvkszWSOJQcuIsiUatab5IYS5o4tIC8memyV5cM9WWUOV0X0umsmOf0WFQ7jDxk9xhXEPZA2V6o8sDBINmJRvkCHc\"\n",
    "PHONE_NUMBER_ID =\"534458339752127\"\n",
    "WHATSAPP_BUSINESS_ACCOUNT_ID = \"483631814842687\"\n",
    "TO = \"5219531127188\""
   ]
  },
  {
   "cell_type": "code",
   "execution_count": 3,
   "metadata": {},
   "outputs": [],
   "source": [
    "#OBED\n",
    "TOKEN = \"EAAQfmvT1cbkBOZBcqjeN0gZCmZAKnBPGkykq7ySJUvBWrxPCgr970bwKZCpXwrGymo4hY8zKKIwqJfgmSLZBAATNpYyzJ4lHFqP2jxFUP3q5xkaAPuE4rwZCwJTNrR7CkjgKr9EBVLB6a1xGZB8EFYZC9d5C3PZAY95v4pOXdVtC2LrJ0ZBvqIz6pmWRmTadxwS9FYRVYRoiBMPpXLWekV5L8Cry224qoZD\"\n",
    "PHONE_NUMBER_ID =\"580532771815815\"\n",
    "WHATSAPP_BUSINESS_ACCOUNT_ID = \"1362547508119721\"\n",
    "TO = \"+529531127188\""
   ]
  },
  {
   "cell_type": "markdown",
   "metadata": {},
   "source": [
    "# Crear plantilla"
   ]
  },
  {
   "cell_type": "code",
   "execution_count": null,
   "metadata": {},
   "outputs": [
    {
     "name": "stdout",
     "output_type": "stream",
     "text": [
      "{\"id\":\"1003154791346036\",\"status\":\"PENDING\",\"category\":\"MARKETING\"}\n"
     ]
    }
   ],
   "source": [
    "import requests\n",
    "import json\n",
    "\n",
    "url = F\"https://graph.facebook.com/v22.0/{WHATSAPP_BUSINESS_ACCOUNT_ID}/message_templates\"\n",
    "\n",
    "payload = json.dumps({\n",
    "  \"name\": \"validaciondereferencia\",\n",
    "  \"category\": \"UTILITY\",\n",
    "  \"parameter_format\": \"NAMED\",\n",
    "  \"allow_category_change\": True,\n",
    "  \"language\": \"es_MX\",\n",
    "  \"components\": [\n",
    "    {\n",
    "      \"type\": \"BODY\",\n",
    "      \"text\": \"Soy {{agent_name}} supervisor en Kosmos. {{client_name}} nos compartió sus datos, para confirmar que es usted su socio ¿Es usted {{reference_name}}?\",\n",
    "      \"example\": {\n",
    "        \"body_text_named_params\": [\n",
    "          {\n",
    "            \"param_name\": \"agent_name\",\n",
    "            \"example\": \"Jose Hernández\"\n",
    "          },\n",
    "          {\n",
    "            \"param_name\": \"client_name\",\n",
    "            \"example\": \"Juan Pérez\"\n",
    "          },\n",
    "          {\n",
    "            \"param_name\": \"reference_name\",\n",
    "            \"example\": \"Pedro Martínez\"\n",
    "          }\n",
    "        ]\n",
    "      }\n",
    "    }\n",
    "  ]\n",
    "})\n",
    "headers = {\n",
    "  'Authorization': f\"Bearer {TOKEN}\",\n",
    "  'Content-Type': 'application/json'\n",
    "}\n",
    "\n",
    "response = requests.request(\"POST\", url, headers=headers, data=payload)\n",
    "\n",
    "print(response.text)\n"
   ]
  },
  {
   "cell_type": "markdown",
   "metadata": {},
   "source": [
    "```json\n",
    "{\"id\":\"1306624573744794\",\"status\":\"PENDING\",\"category\":\"UTILITY\"}\n",
    "```"
   ]
  },
  {
   "cell_type": "markdown",
   "metadata": {},
   "source": [
    "## Ejemplo de respuesta\n",
    "```json\n",
    "{\n",
    "    \"id\":\"1864597287620891\",\n",
    "    \"status\":\"PENDING\",\n",
    "    \"category\":\"UTILITY\"\n",
    "}\n",
    "```"
   ]
  },
  {
   "cell_type": "markdown",
   "metadata": {},
   "source": [
    "# Crear plantilla v2\n"
   ]
  },
  {
   "cell_type": "code",
   "execution_count": null,
   "metadata": {},
   "outputs": [],
   "source": [
    "import requests\n",
    "import json\n",
    "\n",
    "url = F\"https://graph.facebook.com/v22.0/{WHATSAPP_BUSINESS_ACCOUNT_ID}/message_templates\"\n",
    "\n",
    "payload = json.dumps({\n",
    "  \"name\": \"validaciondereferenciaparacreditoconarbol\",\n",
    "  \"category\": \"UTILITY\",\n",
    "  \"parameter_format\": \"NAMED\",\n",
    "  \"allow_category_change\": True,\n",
    "  \"language\": \"es_MX\",\n",
    "  \"components\": [\n",
    "    {\n",
    "      \"type\": \"BODY\",\n",
    "      \"text\": \"Hola mucho gusto, mi nombre es {{agent_name}}, analista de crédito de la tienda Surtidora Departamental. El motivo de mi mensaje es porque {{client_name}} solicitó un crédito y dejó sus datos como referencia. ¿Tengo el gusto con {{reference_name}}?\",\n",
    "      \"example\": {\n",
    "        \"body_text_named_params\": [\n",
    "          {\n",
    "            \"param_name\": \"agent_name\",\n",
    "            \"example\": \"Jose Hernández\"\n",
    "          },\n",
    "          {\n",
    "            \"param_name\": \"client_name\",\n",
    "            \"example\": \"Abel Santillan\"\n",
    "          },\n",
    "          {\n",
    "            \"param_name\": \"reference_name\",\n",
    "            \"example\": \"Joseph Sasson\"\n",
    "          }\n",
    "        ]\n",
    "      }\n",
    "    }\n",
    "  ]\n",
    "})\n",
    "headers = {\n",
    "  'Authorization': f\"Bearer {TOKEN}\",\n",
    "  'Content-Type': 'application/json'\n",
    "}\n",
    "\n",
    "response = requests.request(\"POST\", url, headers=headers, data=payload)\n",
    "\n",
    "print(response.text)"
   ]
  },
  {
   "cell_type": "markdown",
   "metadata": {},
   "source": [
    "# Enviar Plantilla validacion de referencia"
   ]
  },
  {
   "cell_type": "code",
   "execution_count": 7,
   "metadata": {},
   "outputs": [
    {
     "name": "stdout",
     "output_type": "stream",
     "text": [
      "{\"messaging_product\":\"whatsapp\",\"contacts\":[{\"input\":\"+529531127188\",\"wa_id\":\"5219531127188\"}],\"messages\":[{\"id\":\"wamid.HBgNNTIxOTUzMTEyNzE4OBUCABEYEjY3NkY3MzA2NTRDQTI5MDhEOQA=\",\"message_status\":\"accepted\"}]}\n"
     ]
    }
   ],
   "source": [
    "import requests\n",
    "import json\n",
    "\n",
    "url = f\"https://graph.facebook.com/v22.0/{PHONE_NUMBER_ID}/messages\"\n",
    "#validacionpersona\n",
    "payload = json.dumps({\n",
    "  \"messaging_product\": \"whatsapp\",\n",
    "  \"recipient_type\": \"individual\",\n",
    "  \"to\": TO,\n",
    "  \"type\": \"template\",\n",
    "  \"template\": {\n",
    "    \"name\": \"validaciondereferencia\",\n",
    "    \"language\": {\n",
    "      \"code\": \"es_MX\"\n",
    "    },\n",
    "    \"components\": [\n",
    "      {\n",
    "        \"type\": \"body\",\n",
    "        \"parameters\": [\n",
    "          {\n",
    "            \"type\": \"text\",\n",
    "            \"parameter_name\": \"agent_name\",\n",
    "            \"text\": \"Jose Hernández\"\n",
    "          },\n",
    "          {\n",
    "            \"type\": \"text\",\n",
    "            \"parameter_name\": \"client_name\",\n",
    "            \"text\": \"Juan Pérez\"\n",
    "          },\n",
    "          {\n",
    "            \"type\": \"text\",\n",
    "            \"parameter_name\": \"reference_name\",\n",
    "            \"text\": \"Pedro Martínez\"\n",
    "          }\n",
    "        ]\n",
    "      }\n",
    "    ]\n",
    "  }\n",
    "})\n",
    "headers = {\n",
    "  'Authorization': F\"Bearer {TOKEN}\",\n",
    "  'Content-Type': 'application/json'\n",
    "}\n",
    "\n",
    "response = requests.request(\"POST\", url, headers=headers, data=payload)\n",
    "\n",
    "print(response.text)\n",
    "\n"
   ]
  },
  {
   "cell_type": "markdown",
   "metadata": {},
   "source": [
    "**Error de permisos para enviar plantilla**\n",
    "```json\n",
    "{\n",
    "    \"error\": {\n",
    "        \"message\": \"(#10) Application does not have permission for this action\",\n",
    "        \"type\": \"OAuthException\",\n",
    "        \"code\": 10,\n",
    "        \"error_data\": {\n",
    "            \"messaging_product\": \"whatsapp\",\n",
    "            \"details\": \"There was a problem with the access token or permissions you are using for the API call.\"\n",
    "        },\n",
    "        \"fbtrace_id\": \"A7qN9CXixMDsQkpkBHRYRFL\"\n",
    "    }\n",
    "}\n",
    "```\n",
    "\n",
    "**Envio exitoso**\n",
    "```JSON\n",
    "{\n",
    "    \"messaging_product\": \"whatsapp\",\n",
    "    \"contacts\": [\n",
    "        {\n",
    "            \"input\": \"529531127188\",\n",
    "            \"wa_id\": \"5219531127188\"\n",
    "        }\n",
    "    ],\n",
    "    \"messages\": [\n",
    "        {\n",
    "            \"id\": \"wamid.HBgNNTIxOTUzMTEyNzE4OBUCABEYEjRGMTNCMjhFQTMyNjVEQzk5NQA=\",\n",
    "            \"message_status\": \"accepted\"\n",
    "        }\n",
    "    ]\n",
    "}\n",
    "```\n"
   ]
  },
  {
   "cell_type": "markdown",
   "metadata": {},
   "source": [
    "# Enviar Plantilla validacion de referencia para credito"
   ]
  },
  {
   "cell_type": "code",
   "execution_count": 12,
   "metadata": {},
   "outputs": [
    {
     "name": "stdout",
     "output_type": "stream",
     "text": [
      "{\"messaging_product\":\"whatsapp\",\"contacts\":[{\"input\":\"+529531127188\",\"wa_id\":\"5219531127188\"}],\"messages\":[{\"id\":\"wamid.HBgNNTIxOTUzMTEyNzE4OBUCABEYEjEyOTAyOEU4M0ZFNzBFNTEyRAA=\",\"message_status\":\"accepted\"}]}\n"
     ]
    }
   ],
   "source": [
    "import requests\n",
    "import json\n",
    "\n",
    "url = f\"https://graph.facebook.com/v22.0/{PHONE_NUMBER_ID}/messages\"\n",
    "#validacionpersona\n",
    "payload = json.dumps({\n",
    "  \"messaging_product\": \"whatsapp\",\n",
    "  \"recipient_type\": \"individual\",\n",
    "  \"to\": TO,\n",
    "  \"type\": \"template\",\n",
    "  \"template\": {\n",
    "    \"name\": \"validaciondereferenciaparacreditoconarbol\",\n",
    "    \"language\": {\n",
    "      \"code\": \"es_MX\"\n",
    "    },\n",
    "    \"components\": [\n",
    "      {\n",
    "        \"type\": \"body\",\n",
    "        \"parameters\": [\n",
    "          {\n",
    "            \"type\": \"text\",\n",
    "            \"parameter_name\": \"agent_name\",\n",
    "            \"text\": \"Jose Hernández\"\n",
    "          },\n",
    "          {\n",
    "            \"type\": \"text\",\n",
    "            \"parameter_name\": \"client_name\",\n",
    "            \"text\": \"Abel Santillan\"\n",
    "          },\n",
    "          {\n",
    "            \"type\": \"text\",\n",
    "            \"parameter_name\": \"reference_name\",\n",
    "            \"text\": \"Joseph Sasson\"\n",
    "          }\n",
    "        ]\n",
    "      }\n",
    "    ]\n",
    "  }\n",
    "})\n",
    "headers = {\n",
    "  'Authorization': F\"Bearer {TOKEN}\",\n",
    "  'Content-Type': 'application/json'\n",
    "}\n",
    "\n",
    "response = requests.request(\"POST\", url, headers=headers, data=payload)\n",
    "\n",
    "print(response.text)\n",
    "\n"
   ]
  },
  {
   "cell_type": "markdown",
   "metadata": {},
   "source": [
    "## Enviar mensaje de texto\n"
   ]
  },
  {
   "cell_type": "code",
   "execution_count": 13,
   "metadata": {},
   "outputs": [
    {
     "name": "stdout",
     "output_type": "stream",
     "text": [
      "{\"messaging_product\":\"whatsapp\",\"contacts\":[{\"input\":\"529531127188\",\"wa_id\":\"5219531127188\"}],\"messages\":[{\"id\":\"wamid.HBgNNTIxOTUzMTEyNzE4OBUCABEYEkNBMzc3MzNBQTM5N0U1NkQ1OAA=\"}]}\n"
     ]
    }
   ],
   "source": [
    "import requests\n",
    "import json\n",
    "\n",
    "url = F\"https://graph.facebook.com/v22.0/{PHONE_NUMBER_ID}/messages\"\n",
    "\n",
    "payload = json.dumps({\n",
    "  \"messaging_product\": \"whatsapp\",\n",
    "  \"recipient_type\": \"individual\",\n",
    "  \"to\": TO,\n",
    "  \"type\": \"text\",\n",
    "  \"text\": {\n",
    "    \"body\": \"ASDFDFSDFSDFSFDSFSFDSDFSDFSDFSDF\"\n",
    "  }\n",
    "})\n",
    "headers = {\n",
    "  'Authorization': F\"Bearer {TOKEN}\",\n",
    "  'Content-Type': 'application/json'\n",
    "}\n",
    "\n",
    "response = requests.request(\"POST\", url, headers=headers, data=payload)\n",
    "\n",
    "print(response.text)\n"
   ]
  },
  {
   "cell_type": "markdown",
   "metadata": {},
   "source": [
    "**Ejemplo de Respuesta exitosa**\n",
    "\n",
    "```json\n",
    "{\n",
    "    \"messaging_product\": \"whatsapp\",\n",
    "    \"contacts\": [\n",
    "        {\n",
    "            \"input\": \"529531127188\",\n",
    "            \"wa_id\": \"5219531127188\"\n",
    "        }\n",
    "    ],\n",
    "    \"messages\": [\n",
    "        {\n",
    "            \"id\": \"wamid.HBgNNTIxOTUzMTEyNzE4OBUCABEYEkQ0OUU3OTA2N0M1NkU1RURFRAA=\"\n",
    "        }\n",
    "    ]\n",
    "}\n",
    "```"
   ]
  }
 ],
 "metadata": {
  "kernelspec": {
   "display_name": ".venv",
   "language": "python",
   "name": "python3"
  },
  "language_info": {
   "codemirror_mode": {
    "name": "ipython",
    "version": 3
   },
   "file_extension": ".py",
   "mimetype": "text/x-python",
   "name": "python",
   "nbconvert_exporter": "python",
   "pygments_lexer": "ipython3",
   "version": "3.13.1"
  }
 },
 "nbformat": 4,
 "nbformat_minor": 2
}
